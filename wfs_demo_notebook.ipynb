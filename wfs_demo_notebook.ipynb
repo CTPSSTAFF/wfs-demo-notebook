{
 "cells": [
  {
   "cell_type": "markdown",
   "id": "78def73d",
   "metadata": {},
   "source": [
    "### Notebook demonstrating use of WFS to fetch MBTA rapid transit station data"
   ]
  },
  {
   "cell_type": "code",
   "execution_count": null,
   "id": "60a9afc9",
   "metadata": {},
   "outputs": [],
   "source": [
    "# import required packages\n",
    "import pandas as pd\n",
    "import urllib3\n",
    "import json\n",
    "import geopandas as gp"
   ]
  },
  {
   "cell_type": "code",
   "execution_count": null,
   "id": "1c3f3928",
   "metadata": {},
   "outputs": [],
   "source": [
    "massgis_base_url = 'https://gis-prod.digital.mass.gov/geoserver/wfs'\n",
    "\n",
    "typename_parm = 'massgis:GISDATA.MBTA_NODE'\n",
    "outputformat_parm = 'json'"
   ]
  },
  {
   "cell_type": "markdown",
   "id": "34b48b3e",
   "metadata": {},
   "source": [
    "#### Form request URL"
   ]
  },
  {
   "cell_type": "code",
   "execution_count": null,
   "id": "7ba951b0",
   "metadata": {},
   "outputs": [],
   "source": [
    "request_url = massgis_base_url + '?' + 'service=wfs'\n",
    "request_url += '&request=getfeature'\n",
    "request_url += '&typename=' + typename_parm\n",
    "request_url += '&outputformat=' + outputformat_parm"
   ]
  },
  {
   "cell_type": "code",
   "execution_count": null,
   "id": "d1e75c2c",
   "metadata": {},
   "outputs": [],
   "source": [
    "request_url"
   ]
  },
  {
   "cell_type": "markdown",
   "id": "5a1b1bfe",
   "metadata": {},
   "source": [
    "#### Submit 'vanilla' WFS request, not using GeoPandas to handle all the details."
   ]
  },
  {
   "cell_type": "code",
   "execution_count": null,
   "id": "a4d7a12f",
   "metadata": {},
   "outputs": [],
   "source": [
    "# Initialize urllib3 pool manager - not required if using geopandas (see below)\n",
    "http = urllib3.PoolManager()"
   ]
  },
  {
   "cell_type": "code",
   "execution_count": null,
   "id": "829f37c5",
   "metadata": {},
   "outputs": [],
   "source": [
    "# This is where we actually make the request\n",
    "response = http.request('GET', request_url)"
   ]
  },
  {
   "cell_type": "code",
   "execution_count": null,
   "id": "b653f85c",
   "metadata": {},
   "outputs": [],
   "source": [
    "# Check response status; the HTTP resonse code 200 indicates 'OK'\n",
    "response.status"
   ]
  },
  {
   "cell_type": "code",
   "execution_count": null,
   "id": "c08d53a6",
   "metadata": {},
   "outputs": [],
   "source": [
    "# Extract the data from the response object; the data 'payload' is in response.data\n",
    "resp_data = response.data\n",
    "json_str_data = resp_data.decode()"
   ]
  },
  {
   "cell_type": "code",
   "execution_count": null,
   "id": "48448876",
   "metadata": {},
   "outputs": [],
   "source": [
    "# Convert data (in the form of JSON string) into a Python data structure\n",
    "data = json.loads(json_str_data)"
   ]
  },
  {
   "cell_type": "code",
   "execution_count": null,
   "id": "55f02a59",
   "metadata": {},
   "outputs": [],
   "source": [
    "# And extract the features from it\n",
    "features = data['features']"
   ]
  },
  {
   "cell_type": "code",
   "execution_count": null,
   "id": "78c80e27",
   "metadata": {},
   "outputs": [],
   "source": [
    "for feature in features:\n",
    "    print(feature['properties']['station'] + ' ' + feature['properties']['line'])"
   ]
  },
  {
   "cell_type": "code",
   "execution_count": null,
   "id": "2fceb715",
   "metadata": {},
   "outputs": [],
   "source": []
  },
  {
   "cell_type": "markdown",
   "id": "c7bdfc8e",
   "metadata": {},
   "source": [
    "### That was a bit long winded, wasn't it?\n",
    "### GeoPandas makes things a LOT easier..."
   ]
  },
  {
   "cell_type": "code",
   "execution_count": null,
   "id": "707d663c",
   "metadata": {},
   "outputs": [],
   "source": [
    "# Yes, believe it or not the method name IS 'read_file'.\n",
    "# Geopandas is smart enough to know when a 'filename' is really a service URL.\n",
    "gdf = gp.read_file(request_url)"
   ]
  },
  {
   "cell_type": "code",
   "execution_count": null,
   "id": "692c2bfb",
   "metadata": {},
   "outputs": [],
   "source": [
    "gdf"
   ]
  },
  {
   "cell_type": "code",
   "execution_count": null,
   "id": "d4c573ca",
   "metadata": {},
   "outputs": [],
   "source": [
    "gdf.to_file('c:/Users/bkrepp.AD/my.json', driver=\"GeoJSON\")"
   ]
  },
  {
   "cell_type": "code",
   "execution_count": null,
   "id": "3c996e19",
   "metadata": {},
   "outputs": [],
   "source": []
  }
 ],
 "metadata": {
  "kernelspec": {
   "display_name": "Python 3 (ipykernel)",
   "language": "python",
   "name": "python3"
  },
  "language_info": {
   "codemirror_mode": {
    "name": "ipython",
    "version": 3
   },
   "file_extension": ".py",
   "mimetype": "text/x-python",
   "name": "python",
   "nbconvert_exporter": "python",
   "pygments_lexer": "ipython3",
   "version": "3.8.15"
  }
 },
 "nbformat": 4,
 "nbformat_minor": 5
}
